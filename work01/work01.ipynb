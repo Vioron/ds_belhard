{
  "nbformat": 4,
  "nbformat_minor": 0,
  "metadata": {
    "colab": {
      "provenance": [],
      "toc_visible": true,
      "authorship_tag": "ABX9TyM91CY4OXi8lrH/zprCUyFR",
      "include_colab_link": true
    },
    "kernelspec": {
      "name": "python3",
      "display_name": "Python 3"
    },
    "language_info": {
      "name": "python"
    }
  },
  "cells": [
    {
      "cell_type": "markdown",
      "metadata": {
        "id": "view-in-github",
        "colab_type": "text"
      },
      "source": [
        "<a href=\"https://colab.research.google.com/github/Vioron/ds_belhard/blob/main/work01/work01.ipynb\" target=\"_parent\"><img src=\"https://colab.research.google.com/assets/colab-badge.svg\" alt=\"Open In Colab\"/></a>"
      ]
    },
    {
      "cell_type": "code",
      "execution_count": null,
      "metadata": {
        "colab": {
          "base_uri": "https://localhost:8080/"
        },
        "id": "AzhFGCt02bcV",
        "outputId": "7520d15a-a5bb-40cb-8a91-872e7f91f3c5"
      },
      "outputs": [
        {
          "output_type": "stream",
          "name": "stdout",
          "text": [
            "42: int\n",
            "строка: str\n",
            "3.14: float\n",
            "True: bool\n",
            "[1, 2, 3]: list\n"
          ]
        }
      ],
      "source": [
        "mixed_list = [42, \"строка\", 3.14, True, [1, 2, 3]]\n",
        "for item in mixed_list:\n",
        "    print(f\"{item}: {type(item).__name__}\")"
      ]
    },
    {
      "cell_type": "markdown",
      "source": [
        "Алгоритм имеет линейную временную сложность O(N)"
      ],
      "metadata": {
        "id": "dVHL0ra72gbn"
      }
    }
  ]
}