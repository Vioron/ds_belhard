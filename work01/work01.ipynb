{
 "cells": [
  {
   "cell_type": "code",
   "execution_count": 1,
   "id": "initial_id",
   "metadata": {
    "collapsed": true,
    "ExecuteTime": {
     "end_time": "2025-09-14T17:43:50.058113100Z",
     "start_time": "2025-09-14T17:43:50.046705200Z"
    }
   },
   "outputs": [
    {
     "name": "stdout",
     "output_type": "stream",
     "text": [
      "42: int\n",
      "строка: str\n",
      "3.14: float\n",
      "True: bool\n",
      "[1, 2, 3]: list\n"
     ]
    }
   ],
   "source": [
    "mixed_list = [42, \"строка\", 3.14, True, [1, 2, 3]]\n",
    "for item in mixed_list:\n",
    "    print(f\"{item}: {type(item).__name__}\")"
   ]
  },
  {
   "cell_type": "markdown",
   "source": [
    "Алгоритм имеет линейную временную сложность O(N)"
   ],
   "metadata": {
    "collapsed": false
   },
   "id": "ac945ca6d1cd6f48"
  },
  {
   "cell_type": "code",
   "outputs": [],
   "source": [],
   "metadata": {
    "collapsed": false
   },
   "id": "960c5687721d79e9"
  }
 ],
 "metadata": {
  "kernelspec": {
   "display_name": "Python 3",
   "language": "python",
   "name": "python3"
  },
  "language_info": {
   "codemirror_mode": {
    "name": "ipython",
    "version": 2
   },
   "file_extension": ".py",
   "mimetype": "text/x-python",
   "name": "python",
   "nbconvert_exporter": "python",
   "pygments_lexer": "ipython2",
   "version": "2.7.6"
  }
 },
 "nbformat": 4,
 "nbformat_minor": 5
}
